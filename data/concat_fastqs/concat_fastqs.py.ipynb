{
 "cells": [
  {
   "cell_type": "markdown",
   "id": "c095b694",
   "metadata": {},
   "source": [
    "# concat_fastqs\n",
    "This notebook takes a list of FASTQ files that reprsent multiple sequencing runs of the same samples. It groups them by sample and tile, concatenates them, and saves the concatenated FASTQ."
   ]
  },
  {
   "cell_type": "markdown",
   "id": "f5e1251f",
   "metadata": {},
   "source": [
    "Notebook Setup:"
   ]
  },
  {
   "cell_type": "code",
   "execution_count": 1,
   "id": "734f9626",
   "metadata": {},
   "outputs": [],
   "source": [
    "import os\n",
    "import pandas as pd"
   ]
  },
  {
   "cell_type": "markdown",
   "id": "4529310a",
   "metadata": {},
   "source": [
    "Paths:"
   ]
  },
  {
   "cell_type": "code",
   "execution_count": 2,
   "id": "f9a98aed",
   "metadata": {},
   "outputs": [],
   "source": [
    "samplelist = 'concat_fastq_samplelist.csv'\n",
    "out_dir = 'concat_fastq_out/'\n",
    "pseudo_date = 'multi'"
   ]
  },
  {
   "cell_type": "markdown",
   "id": "1e8fe67b",
   "metadata": {},
   "source": [
    "Load samplelist:"
   ]
  },
  {
   "cell_type": "code",
   "execution_count": 3,
   "id": "90895d16",
   "metadata": {},
   "outputs": [
    {
     "data": {
      "text/html": [
       "<div>\n",
       "<style scoped>\n",
       "    .dataframe tbody tr th:only-of-type {\n",
       "        vertical-align: middle;\n",
       "    }\n",
       "\n",
       "    .dataframe tbody tr th {\n",
       "        vertical-align: top;\n",
       "    }\n",
       "\n",
       "    .dataframe thead th {\n",
       "        text-align: right;\n",
       "    }\n",
       "</style>\n",
       "<table border=\"1\" class=\"dataframe\">\n",
       "  <thead>\n",
       "    <tr style=\"text-align: right;\">\n",
       "      <th></th>\n",
       "      <th>library</th>\n",
       "      <th>selection</th>\n",
       "      <th>date</th>\n",
       "      <th>R1</th>\n",
       "    </tr>\n",
       "  </thead>\n",
       "  <tbody>\n",
       "    <tr>\n",
       "      <th>0</th>\n",
       "      <td>wt</td>\n",
       "      <td>C6-36</td>\n",
       "      <td>220225</td>\n",
       "      <td>/shared/ngs/illumina/bloom_lab/220225_M04866_0...</td>\n",
       "    </tr>\n",
       "    <tr>\n",
       "      <th>1</th>\n",
       "      <td>lib1</td>\n",
       "      <td>C6-36</td>\n",
       "      <td>220225</td>\n",
       "      <td>/shared/ngs/illumina/bloom_lab/220225_M04866_0...</td>\n",
       "    </tr>\n",
       "    <tr>\n",
       "      <th>2</th>\n",
       "      <td>lib2</td>\n",
       "      <td>C6-36</td>\n",
       "      <td>220225</td>\n",
       "      <td>/shared/ngs/illumina/bloom_lab/220225_M04866_0...</td>\n",
       "    </tr>\n",
       "    <tr>\n",
       "      <th>3</th>\n",
       "      <td>lib3</td>\n",
       "      <td>C6-36</td>\n",
       "      <td>220225</td>\n",
       "      <td>/shared/ngs/illumina/bloom_lab/220225_M04866_0...</td>\n",
       "    </tr>\n",
       "    <tr>\n",
       "      <th>4</th>\n",
       "      <td>wt</td>\n",
       "      <td>C6-36</td>\n",
       "      <td>220415</td>\n",
       "      <td>/shared/ngs/illumina/bloom_lab/220415_M00492_0...</td>\n",
       "    </tr>\n",
       "    <tr>\n",
       "      <th>5</th>\n",
       "      <td>lib1</td>\n",
       "      <td>C6-36</td>\n",
       "      <td>220415</td>\n",
       "      <td>/shared/ngs/illumina/bloom_lab/220415_M00492_0...</td>\n",
       "    </tr>\n",
       "    <tr>\n",
       "      <th>6</th>\n",
       "      <td>lib2</td>\n",
       "      <td>C6-36</td>\n",
       "      <td>220415</td>\n",
       "      <td>/shared/ngs/illumina/bloom_lab/220415_M00492_0...</td>\n",
       "    </tr>\n",
       "    <tr>\n",
       "      <th>7</th>\n",
       "      <td>lib3</td>\n",
       "      <td>C6-36</td>\n",
       "      <td>220415</td>\n",
       "      <td>/shared/ngs/illumina/bloom_lab/220415_M00492_0...</td>\n",
       "    </tr>\n",
       "  </tbody>\n",
       "</table>\n",
       "</div>"
      ],
      "text/plain": [
       "  library selection    date                                                 R1\n",
       "0      wt     C6-36  220225  /shared/ngs/illumina/bloom_lab/220225_M04866_0...\n",
       "1    lib1     C6-36  220225  /shared/ngs/illumina/bloom_lab/220225_M04866_0...\n",
       "2    lib2     C6-36  220225  /shared/ngs/illumina/bloom_lab/220225_M04866_0...\n",
       "3    lib3     C6-36  220225  /shared/ngs/illumina/bloom_lab/220225_M04866_0...\n",
       "4      wt     C6-36  220415  /shared/ngs/illumina/bloom_lab/220415_M00492_0...\n",
       "5    lib1     C6-36  220415  /shared/ngs/illumina/bloom_lab/220415_M00492_0...\n",
       "6    lib2     C6-36  220415  /shared/ngs/illumina/bloom_lab/220415_M00492_0...\n",
       "7    lib3     C6-36  220415  /shared/ngs/illumina/bloom_lab/220415_M00492_0..."
      ]
     },
     "metadata": {},
     "output_type": "display_data"
    }
   ],
   "source": [
    "samples = pd.read_csv(samplelist)\n",
    "display(samples)"
   ]
  },
  {
   "cell_type": "markdown",
   "id": "f8c6cd1a",
   "metadata": {},
   "source": [
    "Generate list of R1 files grouped by sample information. Ignore date, since we are combining sequencing runs. Sample information will be:\n",
    "* library\n",
    "* selection"
   ]
  },
  {
   "cell_type": "code",
   "execution_count": 4,
   "id": "48c57e10",
   "metadata": {},
   "outputs": [
    {
     "data": {
      "text/html": [
       "<div>\n",
       "<style scoped>\n",
       "    .dataframe tbody tr th:only-of-type {\n",
       "        vertical-align: middle;\n",
       "    }\n",
       "\n",
       "    .dataframe tbody tr th {\n",
       "        vertical-align: top;\n",
       "    }\n",
       "\n",
       "    .dataframe thead th {\n",
       "        text-align: right;\n",
       "    }\n",
       "</style>\n",
       "<table border=\"1\" class=\"dataframe\">\n",
       "  <thead>\n",
       "    <tr style=\"text-align: right;\">\n",
       "      <th></th>\n",
       "      <th>library</th>\n",
       "      <th>selection</th>\n",
       "      <th>R1_list</th>\n",
       "    </tr>\n",
       "  </thead>\n",
       "  <tbody>\n",
       "    <tr>\n",
       "      <th>0</th>\n",
       "      <td>lib1</td>\n",
       "      <td>C6-36</td>\n",
       "      <td>[/shared/ngs/illumina/bloom_lab/220225_M04866_...</td>\n",
       "    </tr>\n",
       "    <tr>\n",
       "      <th>1</th>\n",
       "      <td>lib2</td>\n",
       "      <td>C6-36</td>\n",
       "      <td>[/shared/ngs/illumina/bloom_lab/220225_M04866_...</td>\n",
       "    </tr>\n",
       "    <tr>\n",
       "      <th>2</th>\n",
       "      <td>lib3</td>\n",
       "      <td>C6-36</td>\n",
       "      <td>[/shared/ngs/illumina/bloom_lab/220225_M04866_...</td>\n",
       "    </tr>\n",
       "    <tr>\n",
       "      <th>3</th>\n",
       "      <td>wt</td>\n",
       "      <td>C6-36</td>\n",
       "      <td>[/shared/ngs/illumina/bloom_lab/220225_M04866_...</td>\n",
       "    </tr>\n",
       "  </tbody>\n",
       "</table>\n",
       "</div>"
      ],
      "text/plain": [
       "  library selection                                            R1_list\n",
       "0    lib1     C6-36  [/shared/ngs/illumina/bloom_lab/220225_M04866_...\n",
       "1    lib2     C6-36  [/shared/ngs/illumina/bloom_lab/220225_M04866_...\n",
       "2    lib3     C6-36  [/shared/ngs/illumina/bloom_lab/220225_M04866_...\n",
       "3      wt     C6-36  [/shared/ngs/illumina/bloom_lab/220225_M04866_..."
      ]
     },
     "metadata": {},
     "output_type": "display_data"
    }
   ],
   "source": [
    "R1_files = (\n",
    "    pd.DataFrame(\n",
    "        samples.groupby(['library', 'selection'])\n",
    "        ['R1']\n",
    "        .apply(list))\n",
    "     .reset_index()\n",
    "     .rename(columns={'R1': 'R1_list'})\n",
    ")\n",
    "display(R1_files)"
   ]
  },
  {
   "cell_type": "markdown",
   "id": "2c7c3e53-40f2-43d8-8aac-e048df6c9c94",
   "metadata": {},
   "source": [
    "Generate output directory with name \"concat_fastq_out\""
   ]
  },
  {
   "cell_type": "code",
   "execution_count": 5,
   "id": "2cd42472-0d58-498f-b171-6122c2f2811b",
   "metadata": {},
   "outputs": [
    {
     "data": {
      "text/plain": [
       "0"
      ]
     },
     "execution_count": 5,
     "metadata": {},
     "output_type": "execute_result"
    }
   ],
   "source": [
    "os.system('mkdir concat_fastq_out -p')"
   ]
  },
  {
   "cell_type": "markdown",
   "id": "f1496634",
   "metadata": {},
   "source": [
    "Make `cat` command string for each sample in R1_files"
   ]
  },
  {
   "cell_type": "code",
   "execution_count": 6,
   "id": "bcce843a",
   "metadata": {},
   "outputs": [
    {
     "name": "stdout",
     "output_type": "stream",
     "text": [
      "Generating command for lib1 C6-36.\n",
      "\n",
      "The R1 and R2 files for this sample are:\n",
      "/shared/ngs/illumina/bloom_lab/220225_M04866_0515_000000000-K5JDB/Unaligned/Project_bloom_lab/Lib1_S1_R1_001.fastq.gz\n",
      "/shared/ngs/illumina/bloom_lab/220225_M04866_0515_000000000-K5JDB/Unaligned/Project_bloom_lab/Lib1_S1_R2_001.fastq.gz\n",
      "/shared/ngs/illumina/bloom_lab/220415_M00492_0013_000000000-KC5RK/Unaligned/Project_bloom_lab/Lib1_S1_R1_001.fastq.gz\n",
      "/shared/ngs/illumina/bloom_lab/220415_M00492_0013_000000000-KC5RK/Unaligned/Project_bloom_lab/Lib1_S1_R2_001.fastq.gz\n",
      "\n",
      "The R1 output file will be: concat_fastq_out/lib1_C636_R1.fastq.gz\n",
      "\n",
      "The command we run to concatentate these R1 files will be:\n",
      "cat /shared/ngs/illumina/bloom_lab/220225_M04866_0515_000000000-K5JDB/Unaligned/Project_bloom_lab/Lib1_S1_R1_001.fastq.gz /shared/ngs/illumina/bloom_lab/220415_M00492_0013_000000000-KC5RK/Unaligned/Project_bloom_lab/Lib1_S1_R1_001.fastq.gz > concat_fastq_out/lib1_C636_R1.fastq.gz\n",
      "\n",
      "The R2 output file will be: concat_fastq_out/lib1_C636_R2.fastq.gz\n",
      "\n",
      "The command we run to concatentate these R2 files will be:\n",
      "cat /shared/ngs/illumina/bloom_lab/220225_M04866_0515_000000000-K5JDB/Unaligned/Project_bloom_lab/Lib1_S1_R2_001.fastq.gz /shared/ngs/illumina/bloom_lab/220415_M00492_0013_000000000-KC5RK/Unaligned/Project_bloom_lab/Lib1_S1_R2_001.fastq.gz > concat_fastq_out/lib1_C636_R2.fastq.gz\n",
      "\n",
      "\n",
      "\n",
      "Running.\n",
      "Adding CSV data to output_samples list.\n",
      "Done.\n",
      "\n",
      "\n",
      "Generating command for lib2 C6-36.\n",
      "\n",
      "The R1 and R2 files for this sample are:\n",
      "/shared/ngs/illumina/bloom_lab/220225_M04866_0515_000000000-K5JDB/Unaligned/Project_bloom_lab/Lib2_S2_R1_001.fastq.gz\n",
      "/shared/ngs/illumina/bloom_lab/220225_M04866_0515_000000000-K5JDB/Unaligned/Project_bloom_lab/Lib2_S2_R2_001.fastq.gz\n",
      "/shared/ngs/illumina/bloom_lab/220415_M00492_0013_000000000-KC5RK/Unaligned/Project_bloom_lab/Lib2_S2_R1_001.fastq.gz\n",
      "/shared/ngs/illumina/bloom_lab/220415_M00492_0013_000000000-KC5RK/Unaligned/Project_bloom_lab/Lib2_S2_R2_001.fastq.gz\n",
      "\n",
      "The R1 output file will be: concat_fastq_out/lib2_C636_R1.fastq.gz\n",
      "\n",
      "The command we run to concatentate these R1 files will be:\n",
      "cat /shared/ngs/illumina/bloom_lab/220225_M04866_0515_000000000-K5JDB/Unaligned/Project_bloom_lab/Lib2_S2_R1_001.fastq.gz /shared/ngs/illumina/bloom_lab/220415_M00492_0013_000000000-KC5RK/Unaligned/Project_bloom_lab/Lib2_S2_R1_001.fastq.gz > concat_fastq_out/lib2_C636_R1.fastq.gz\n",
      "\n",
      "The R2 output file will be: concat_fastq_out/lib2_C636_R2.fastq.gz\n",
      "\n",
      "The command we run to concatentate these R2 files will be:\n",
      "cat /shared/ngs/illumina/bloom_lab/220225_M04866_0515_000000000-K5JDB/Unaligned/Project_bloom_lab/Lib2_S2_R2_001.fastq.gz /shared/ngs/illumina/bloom_lab/220415_M00492_0013_000000000-KC5RK/Unaligned/Project_bloom_lab/Lib2_S2_R2_001.fastq.gz > concat_fastq_out/lib2_C636_R2.fastq.gz\n",
      "\n",
      "\n",
      "\n",
      "Running.\n",
      "Adding CSV data to output_samples list.\n",
      "Done.\n",
      "\n",
      "\n",
      "Generating command for lib3 C6-36.\n",
      "\n",
      "The R1 and R2 files for this sample are:\n",
      "/shared/ngs/illumina/bloom_lab/220225_M04866_0515_000000000-K5JDB/Unaligned/Project_bloom_lab/Lib3_S3_R1_001.fastq.gz\n",
      "/shared/ngs/illumina/bloom_lab/220225_M04866_0515_000000000-K5JDB/Unaligned/Project_bloom_lab/Lib3_S3_R2_001.fastq.gz\n",
      "/shared/ngs/illumina/bloom_lab/220415_M00492_0013_000000000-KC5RK/Unaligned/Project_bloom_lab/Lib3_S3_R1_001.fastq.gz\n",
      "/shared/ngs/illumina/bloom_lab/220415_M00492_0013_000000000-KC5RK/Unaligned/Project_bloom_lab/Lib3_S3_R2_001.fastq.gz\n",
      "\n",
      "The R1 output file will be: concat_fastq_out/lib3_C636_R1.fastq.gz\n",
      "\n",
      "The command we run to concatentate these R1 files will be:\n",
      "cat /shared/ngs/illumina/bloom_lab/220225_M04866_0515_000000000-K5JDB/Unaligned/Project_bloom_lab/Lib3_S3_R1_001.fastq.gz /shared/ngs/illumina/bloom_lab/220415_M00492_0013_000000000-KC5RK/Unaligned/Project_bloom_lab/Lib3_S3_R1_001.fastq.gz > concat_fastq_out/lib3_C636_R1.fastq.gz\n",
      "\n",
      "The R2 output file will be: concat_fastq_out/lib3_C636_R2.fastq.gz\n",
      "\n",
      "The command we run to concatentate these R2 files will be:\n",
      "cat /shared/ngs/illumina/bloom_lab/220225_M04866_0515_000000000-K5JDB/Unaligned/Project_bloom_lab/Lib3_S3_R2_001.fastq.gz /shared/ngs/illumina/bloom_lab/220415_M00492_0013_000000000-KC5RK/Unaligned/Project_bloom_lab/Lib3_S3_R2_001.fastq.gz > concat_fastq_out/lib3_C636_R2.fastq.gz\n",
      "\n",
      "\n",
      "\n",
      "Running.\n",
      "Adding CSV data to output_samples list.\n",
      "Done.\n",
      "\n",
      "\n",
      "Generating command for wt C6-36.\n",
      "\n",
      "The R1 and R2 files for this sample are:\n",
      "/shared/ngs/illumina/bloom_lab/220225_M04866_0515_000000000-K5JDB/Unaligned/Project_bloom_lab/WT_S4_R1_001.fastq.gz\n",
      "/shared/ngs/illumina/bloom_lab/220225_M04866_0515_000000000-K5JDB/Unaligned/Project_bloom_lab/WT_S4_R2_001.fastq.gz\n",
      "/shared/ngs/illumina/bloom_lab/220415_M00492_0013_000000000-KC5RK/Unaligned/Project_bloom_lab/WT_S4_R1_001.fastq.gz\n",
      "/shared/ngs/illumina/bloom_lab/220415_M00492_0013_000000000-KC5RK/Unaligned/Project_bloom_lab/WT_S4_R2_001.fastq.gz\n",
      "\n",
      "The R1 output file will be: concat_fastq_out/wt_C636_R1.fastq.gz\n",
      "\n",
      "The command we run to concatentate these R1 files will be:\n",
      "cat /shared/ngs/illumina/bloom_lab/220225_M04866_0515_000000000-K5JDB/Unaligned/Project_bloom_lab/WT_S4_R1_001.fastq.gz /shared/ngs/illumina/bloom_lab/220415_M00492_0013_000000000-KC5RK/Unaligned/Project_bloom_lab/WT_S4_R1_001.fastq.gz > concat_fastq_out/wt_C636_R1.fastq.gz\n",
      "\n",
      "The R2 output file will be: concat_fastq_out/wt_C636_R2.fastq.gz\n",
      "\n",
      "The command we run to concatentate these R2 files will be:\n",
      "cat /shared/ngs/illumina/bloom_lab/220225_M04866_0515_000000000-K5JDB/Unaligned/Project_bloom_lab/WT_S4_R2_001.fastq.gz /shared/ngs/illumina/bloom_lab/220415_M00492_0013_000000000-KC5RK/Unaligned/Project_bloom_lab/WT_S4_R2_001.fastq.gz > concat_fastq_out/wt_C636_R2.fastq.gz\n",
      "\n",
      "\n",
      "\n",
      "Running.\n",
      "Adding CSV data to output_samples list.\n",
      "Done.\n",
      "\n",
      "\n"
     ]
    }
   ],
   "source": [
    "# Keep track of output files\n",
    "output_samples = list()\n",
    "\n",
    "for index, row in R1_files.iterrows():\n",
    "    print(f\"Generating command for {row['library']} {row['selection']}.\\n\")\n",
    "    \n",
    "    # make strings with all R1_files and R2_files for each sample\n",
    "    print(\"The R1 and R2 files for this sample are:\")\n",
    "    R1_ls = []\n",
    "    R2_ls = []\n",
    "\n",
    "    for r1 in row[\"R1_list\"]:\n",
    "        print(r1)\n",
    "        R1_ls.append(r1)\n",
    "        assert r1.count('_R1') == 1, (\"Can't guess R2 file for R1 \"\n",
    "                        \"file {0}\".format(r1))\n",
    "        r2 = r1.replace('_R1', '_R2')\n",
    "        print(r2)\n",
    "        R2_ls.append(r2)\n",
    "    \n",
    "    R1_string = \" \".join(map(str, R1_ls))\n",
    "    R2_string = \" \".join(map(str, R2_ls))\n",
    "    \n",
    "    # make R1 strings with output file name\n",
    "    r1_output_file = (out_dir +\n",
    "                   row['library'] + '_' +\n",
    "                   row['selection'].replace('-','') + '_' +\n",
    "                   \"R1\" +\n",
    "                   '.fastq.gz')\n",
    "    print(f\"\\nThe R1 output file will be: {r1_output_file}\\n\")\n",
    "\n",
    "    r1_command = \"cat \" + R1_string + \" > \" + r1_output_file\n",
    "\n",
    "    print(\"The command we run to concatentate these R1 files will be:\")\n",
    "    print(r1_command)\n",
    "    \n",
    "    # make R2 strings with output file name\n",
    "    r2_output_file = (out_dir +\n",
    "                   row['library'] + '_' +\n",
    "                   row['selection'].replace('-','') + '_' +\n",
    "                   \"R2\" +\n",
    "                   '.fastq.gz')\n",
    "    print(f\"\\nThe R2 output file will be: {r2_output_file}\\n\")\n",
    "\n",
    "    r2_command = \"cat \" + R2_string + \" > \" + r2_output_file\n",
    "\n",
    "    print(\"The command we run to concatentate these R2 files will be:\")\n",
    "    print(r2_command)\n",
    "    print(\"\\n\")\n",
    "    \n",
    "    # run cat strings in the command line\n",
    "    print(\"\\nRunning.\")\n",
    "    os.system(r1_command)\n",
    "    os.system(r2_command)\n",
    "\n",
    "    # make csv formatted lists of sample library, selection, R1\n",
    "    # do not need to include paths to R2\n",
    "    # dms_tools2 identifies R2 file paths from R1 file paths\n",
    "    print(\"Adding CSV data to output_samples list.\")\n",
    "    csv_string = ','.join([row['library'],\n",
    "                           row['selection'],\n",
    "                           pseudo_date,\n",
    "                           str('/fh/fast/bloom_j/computational_notebooks/dbacsik/2022/ZIKV_DMS_NS5_EvansLab/data/concat_fastqs/'+\n",
    "                               r1_output_file +\n",
    "                               ',')])\n",
    "    output_samples.append(csv_string)\n",
    "    print(\"Done.\\n\\n\")\n"
   ]
  },
  {
   "cell_type": "markdown",
   "id": "e0f070c5",
   "metadata": {},
   "source": [
    "Generate CSV formatted list of output files to copy into samplelists:"
   ]
  },
  {
   "cell_type": "code",
   "execution_count": 7,
   "id": "3de73c2e-e17a-46bf-8a4b-a71ac5336d33",
   "metadata": {},
   "outputs": [
    {
     "name": "stdout",
     "output_type": "stream",
     "text": [
      "lib1,C6-36,multi,/fh/fast/bloom_j/computational_notebooks/dbacsik/2022/ZIKV_DMS_NS5_EvansLab/data/concat_fastqs/concat_fastq_out/lib1_C636_R1.fastq.gz,\n",
      "lib2,C6-36,multi,/fh/fast/bloom_j/computational_notebooks/dbacsik/2022/ZIKV_DMS_NS5_EvansLab/data/concat_fastqs/concat_fastq_out/lib2_C636_R1.fastq.gz,\n",
      "lib3,C6-36,multi,/fh/fast/bloom_j/computational_notebooks/dbacsik/2022/ZIKV_DMS_NS5_EvansLab/data/concat_fastqs/concat_fastq_out/lib3_C636_R1.fastq.gz,\n",
      "wt,C6-36,multi,/fh/fast/bloom_j/computational_notebooks/dbacsik/2022/ZIKV_DMS_NS5_EvansLab/data/concat_fastqs/concat_fastq_out/wt_C636_R1.fastq.gz,\n"
     ]
    }
   ],
   "source": [
    "print('\\n'.join(output_samples))"
   ]
  },
  {
   "cell_type": "code",
   "execution_count": null,
   "id": "279f6eae",
   "metadata": {},
   "outputs": [],
   "source": []
  },
  {
   "cell_type": "code",
   "execution_count": null,
   "id": "8e78a400-0a4d-4a9b-a67a-1d2872344ca8",
   "metadata": {},
   "outputs": [],
   "source": []
  },
  {
   "cell_type": "code",
   "execution_count": null,
   "id": "7f838846-84be-48e2-99b0-ad382d2be778",
   "metadata": {},
   "outputs": [],
   "source": []
  }
 ],
 "metadata": {
  "kernelspec": {
   "display_name": "Python 3 (ipykernel)",
   "language": "python",
   "name": "python3"
  },
  "language_info": {
   "codemirror_mode": {
    "name": "ipython",
    "version": 3
   },
   "file_extension": ".py",
   "mimetype": "text/x-python",
   "name": "python",
   "nbconvert_exporter": "python",
   "pygments_lexer": "ipython3",
   "version": "3.8.13"
  }
 },
 "nbformat": 4,
 "nbformat_minor": 5
}
