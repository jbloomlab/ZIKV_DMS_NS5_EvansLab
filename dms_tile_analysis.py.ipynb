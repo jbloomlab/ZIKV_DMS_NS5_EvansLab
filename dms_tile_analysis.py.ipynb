{
 "cells": [
  {
   "cell_type": "markdown",
   "metadata": {},
   "source": [
    "# Deep mutational scanning of ZIKV E protein NS5\n",
    "Mutational antigenic profiling of ZIKV E from the MR766 strain.\n",
    "Experiments performed by Blake Richardson and Matt Evans.\n",
    "Analysis by [Jesse Bloom](https://research.fhcrc.org/bloom/en.html).\n",
    "\n",
    "The NS5 mutagensis was performed in \"tiles\" along the length of the gene.\n",
    "\n",
    "## Set up for analysis\n",
    "Import Python packages and modules:"
   ]
  },
  {
   "cell_type": "code",
   "execution_count": null,
   "metadata": {
    "tags": []
   },
   "outputs": [],
   "source": [
    "import glob\n",
    "import os\n",
    "import subprocess\n",
    "import shutil\n",
    "\n",
    "import Bio.SeqIO\n",
    "\n",
    "import dms_tools2\n",
    "from dms_tools2 import AAS\n",
    "from dms_tools2.ipython_utils import showPDF\n",
    "from dms_tools2.plot import COLOR_BLIND_PALETTE_GRAY as CBPALETTE\n",
    "import dms_tools2.prefs\n",
    "import dms_tools2.utils\n",
    "print(f\"Using dms_tools2 {dms_tools2.__version__}\")\n",
    "\n",
    "from IPython.display import display, HTML\n",
    "\n",
    "import pandas as pd\n",
    "\n",
    "import altair as alt\n",
    "from plotnine import *\n",
    "\n",
    "import numpy\n",
    "\n",
    "import dms_variants.plotnine_themes"
   ]
  },
  {
   "cell_type": "markdown",
   "metadata": {},
   "source": [
    "Get variables from `snakemake`:"
   ]
  },
  {
   "cell_type": "code",
   "execution_count": null,
   "metadata": {
    "tags": []
   },
   "outputs": [],
   "source": [
    "ncpus = snakemake.threads\n",
    "refseqfile = snakemake.input.amplicon\n",
    "samplelist = snakemake.input.samplelist\n",
    "alignspecsfile = snakemake.input.alignspecs\n",
    "resultsdir = snakemake.output.resultsdir\n",
    "errpre = snakemake.params.errpre\n",
    "site_number_offset = snakemake.params.site_number_offset"
   ]
  },
  {
   "cell_type": "markdown",
   "metadata": {},
   "source": [
    "Some additional configuration for analysis:"
   ]
  },
  {
   "cell_type": "code",
   "execution_count": null,
   "metadata": {},
   "outputs": [],
   "source": [
    "use_existing = 'yes' # use existing output\n",
    "\n",
    "os.makedirs(resultsdir, exist_ok=True)"
   ]
  },
  {
   "cell_type": "markdown",
   "metadata": {},
   "source": [
    "Read in the wildtype (reference) sequence and its protein translation:"
   ]
  },
  {
   "cell_type": "code",
   "execution_count": null,
   "metadata": {
    "tags": []
   },
   "outputs": [],
   "source": [
    "refseqrecord = Bio.SeqIO.read(refseqfile, 'fasta')\n",
    "refprot = str(refseqrecord.seq.translate())\n",
    "refseq = str(refseqrecord.seq)\n",
    "\n",
    "print(f\"Read reference sequence of {len(refseq)} nucleotides from {refseqfile} \"\n",
    "      f\"that translates to protein of {len(refprot)} amino acids.\")"
   ]
  },
  {
   "cell_type": "markdown",
   "metadata": {},
   "source": [
    "## Process deep sequencing data\n",
    "We process the data from the [barcoded subamplicon deep sequencing](https://jbloomlab.github.io/dms_tools2/bcsubamp.html) to count the frequency of each codon in each sample.\n",
    "\n",
    "First, we read in the samples:"
   ]
  },
  {
   "cell_type": "code",
   "execution_count": null,
   "metadata": {
    "tags": []
   },
   "outputs": [],
   "source": [
    "samples = (pd.read_csv(samplelist)\n",
    "           .assign(name=lambda x: x.library + '-' + x.selection + '-' + x.date.astype(str))\n",
    "           )\n",
    "\n",
    "display(HTML(samples.to_html(index=False)))"
   ]
  },
  {
   "cell_type": "markdown",
   "metadata": {},
   "source": [
    "Now we read in the alignment specs for the [barcoded subamplicon sequencing](https://jbloomlab.github.io/dms_tools2/bcsubamp.html):"
   ]
  },
  {
   "cell_type": "code",
   "execution_count": null,
   "metadata": {},
   "outputs": [],
   "source": [
    "with open(alignspecsfile) as f:\n",
    "    alignspecs = f.read().strip()\n",
    "print(alignspecs)"
   ]
  },
  {
   "cell_type": "markdown",
   "metadata": {},
   "source": [
    "Now we use the [dms2_batch_bcsubamp](https://jbloomlab.github.io/dms_tools2/dms2_batch_bcsubamp.html) program to process the deep sequencing data to obtain codon counts:"
   ]
  },
  {
   "cell_type": "code",
   "execution_count": null,
   "metadata": {},
   "outputs": [],
   "source": [
    "countsdir = os.path.join(resultsdir, 'codoncounts')\n",
    "os.makedirs(countsdir, exist_ok=True)\n",
    "\n",
    "bcsubamp_batchfile = os.path.join(countsdir, 'batch.csv')\n",
    "samples[['name', 'R1']].to_csv(bcsubamp_batchfile, index=False)\n",
    "\n",
    "log = ! dms2_batch_bcsubamp \\\n",
    "        --batchfile {bcsubamp_batchfile} \\\n",
    "        --refseq {refseqfile} \\\n",
    "        --alignspecs {alignspecs} \\\n",
    "        --outdir {countsdir} \\\n",
    "        --summaryprefix summary \\\n",
    "        --R1trim 210 \\\n",
    "        --R2trim 210 \\\n",
    "        --ncpus {ncpus} \\\n",
    "        --use_existing {use_existing}\n",
    "\n",
    "samples['codoncounts'] = countsdir + '/' + samples['name'] + '_codoncounts.csv'\n",
    "\n",
    "# check that expected codon counts files created\n",
    "assert all(map(os.path.isfile, samples.codoncounts)), '\\n'.join(log)\n",
    "\n",
    "print(f\"Processed sequencing data to create codon counts files in {countsdir}\")"
   ]
  },
  {
   "cell_type": "markdown",
   "metadata": {},
   "source": [
    "Now we look at the plots.\n",
    "They will all have the following prefix:"
   ]
  },
  {
   "cell_type": "code",
   "execution_count": null,
   "metadata": {
    "tags": []
   },
   "outputs": [],
   "source": [
    "bcsubamp_plot_prefix = os.path.join(countsdir, 'summary_')\n",
    "print(f\"Plots prefix is {bcsubamp_plot_prefix}\")"
   ]
  },
  {
   "cell_type": "markdown",
   "metadata": {},
   "source": [
    "First, we look at the number of reads and barcodes per sample."
   ]
  },
  {
   "cell_type": "code",
   "execution_count": null,
   "metadata": {},
   "outputs": [],
   "source": [
    "showPDF(bcsubamp_plot_prefix + 'readstats.pdf')\n",
    "showPDF(bcsubamp_plot_prefix + 'bcstats.pdf')"
   ]
  },
  {
   "cell_type": "markdown",
   "metadata": {},
   "source": [
    "Next we look at number of reads per barcode."
   ]
  },
  {
   "cell_type": "code",
   "execution_count": null,
   "metadata": {},
   "outputs": [],
   "source": [
    "showPDF(bcsubamp_plot_prefix + 'readsperbc.pdf')"
   ]
  },
  {
   "cell_type": "markdown",
   "metadata": {},
   "source": [
    "Now we look at the depth across the gene.\n",
    "Note that this is still 1, 2, ... numbering of the reference sequence for this tile alone."
   ]
  },
  {
   "cell_type": "code",
   "execution_count": null,
   "metadata": {},
   "outputs": [],
   "source": [
    "showPDF(bcsubamp_plot_prefix + 'depth.pdf')"
   ]
  },
  {
   "cell_type": "markdown",
   "metadata": {},
   "source": [
    "Here are the mutation frequencies across the gene.\n",
    "As expected, the library plasmids have higher mutation rates than the wildtype control:"
   ]
  },
  {
   "cell_type": "code",
   "execution_count": null,
   "metadata": {},
   "outputs": [],
   "source": [
    "showPDF(bcsubamp_plot_prefix + 'mutfreq.pdf')"
   ]
  },
  {
   "cell_type": "markdown",
   "metadata": {},
   "source": [
    "Here are the overall per-codon mutation rate averages:"
   ]
  },
  {
   "cell_type": "code",
   "execution_count": null,
   "metadata": {},
   "outputs": [],
   "source": [
    "showPDF(bcsubamp_plot_prefix + 'codonmuttypes.pdf')"
   ]
  },
  {
   "cell_type": "markdown",
   "metadata": {},
   "source": [
    "We have single and multi-nucleotide changes in the libraries, although the single nucleotide changes are perhaps over-represented:"
   ]
  },
  {
   "cell_type": "code",
   "execution_count": null,
   "metadata": {},
   "outputs": [],
   "source": [
    "showPDF(bcsubamp_plot_prefix + 'codonntchanges.pdf')"
   ]
  },
  {
   "cell_type": "markdown",
   "metadata": {},
   "source": [
    "Here are the frequencies of different types of mutations among single-nucleotide codon changes.\n",
    "There is no massive over-representation of any class as would be expected if oxidative damage, which leads to `C->A` or `G->T` mutations:"
   ]
  },
  {
   "cell_type": "code",
   "execution_count": null,
   "metadata": {},
   "outputs": [],
   "source": [
    "showPDF(bcsubamp_plot_prefix + 'singlentchanges.pdf')"
   ]
  },
  {
   "cell_type": "markdown",
   "metadata": {},
   "source": [
    "Finally, we look at mutation sampling.\n",
    "We can see that most possible mutations are sampled very well in the plasmid samples, although the overall coverage is still pretty low so some are missed:"
   ]
  },
  {
   "cell_type": "code",
   "execution_count": null,
   "metadata": {},
   "outputs": [],
   "source": [
    "showPDF(bcsubamp_plot_prefix + 'cumulmutcounts.pdf')"
   ]
  },
  {
   "cell_type": "markdown",
   "metadata": {},
   "source": [
    "## Now re-number the sites\n",
    "Above everything is numbered 1, 2, ... for that tile.\n",
    "We want to renumber for the whole gene:"
   ]
  },
  {
   "cell_type": "code",
   "execution_count": null,
   "metadata": {},
   "outputs": [],
   "source": [
    "print(f\"Renumbering by adding an offset of {site_number_offset}\")"
   ]
  },
  {
   "cell_type": "markdown",
   "metadata": {},
   "source": [
    "Create a directory for the re-numbered codon counts:"
   ]
  },
  {
   "cell_type": "code",
   "execution_count": null,
   "metadata": {},
   "outputs": [],
   "source": [
    "renumb_countsdir = os.path.join(resultsdir, 'renumbered_codoncounts')\n",
    "os.makedirs(renumb_countsdir, exist_ok=True)\n",
    "print(f\"Putting renumbered codon counts in {renumb_countsdir}\")"
   ]
  },
  {
   "cell_type": "markdown",
   "metadata": {},
   "source": [
    "Create a renumbering file:"
   ]
  },
  {
   "cell_type": "code",
   "execution_count": null,
   "metadata": {
    "tags": []
   },
   "outputs": [],
   "source": [
    "ncodons = len(refseq)\n",
    "assert 0 == ncodons % 3, f\"invalid {ncodons=}\"\n",
    "\n",
    "renumbfile = os.path.join(renumb_countsdir, 'renumbering.csv')\n",
    "with open(renumbfile, 'w') as f:\n",
    "    f.write('original,new\\n')\n",
    "    for orig in range(1, ncodons + 1):\n",
    "        f.write(f\"{orig},{orig + site_number_offset}\\n\")"
   ]
  },
  {
   "cell_type": "markdown",
   "metadata": {},
   "source": [
    "Renumber all CSVs:"
   ]
  },
  {
   "cell_type": "code",
   "execution_count": null,
   "metadata": {
    "tags": []
   },
   "outputs": [],
   "source": [
    "counts_files = glob.glob(f\"{countsdir}/*_codoncounts.csv\")\n",
    "print(f\"Renumbering {len(counts_files)} files\")\n",
    "\n",
    "dms_tools2.utils.renumberSites(renumbfile, counts_files, outdir=renumb_countsdir)"
   ]
  },
  {
   "cell_type": "markdown",
   "metadata": {},
   "source": [
    "Correct our 'samples' file to include renumb_codoncounts"
   ]
  },
  {
   "cell_type": "code",
   "execution_count": null,
   "metadata": {},
   "outputs": [],
   "source": [
    "samples['renumb_codoncounts'] = renumb_countsdir + '/' + samples['name'] + '_codoncounts.csv'"
   ]
  },
  {
   "cell_type": "markdown",
   "metadata": {},
   "source": [
    "## Functional effects of mutations of viral growth\n",
    "Compute the functional effects of mutations on viral growth by comparing the passaged virus to the original plasmid.\n",
    "\n",
    "To do this, we compute the [amino-acid preferences](https://jbloomlab.github.io/dms_tools2/prefs.html#prefs) under selection for viral growth.\n",
    "We do this using [dms2_batch_prefs](https://jbloomlab.github.io/dms_tools2/dms2_batch_prefs.html).\n",
    "\n",
    "First, make a data frame with the batch file:"
   ]
  },
  {
   "cell_type": "code",
   "execution_count": null,
   "metadata": {},
   "outputs": [],
   "source": [
    "prefs_batch = (\n",
    "    samples\n",
    "    .query('library != \"wt\"')\n",
    "    .query('selection != \"plasmid\"')\n",
    "    .assign(post=lambda x: x['name'])\n",
    "    .merge(samples.query('selection == \"plasmid\"')\n",
    "                  .assign(pre=lambda x: x['name'])\n",
    "                  [['library', 'pre']],\n",
    "           on=['library'], how='left', validate='many_to_one',\n",
    "           )\n",
    "    [['name', 'selection', 'library', 'pre', 'post', 'date']]\n",
    "    .assign(errpre=errpre)\n",
    "    .merge(samples.query('library == \"wt\"')\n",
    "                  .assign(errpost=lambda x: x['name'])\n",
    "                  [['selection', 'errpost', 'date']],\n",
    "           on=['selection', 'date'], how='left'\n",
    "           )\n",
    "    )\n",
    "assert prefs_batch.notnull().all().all()\n",
    "\n",
    "display(prefs_batch)"
   ]
  },
  {
   "cell_type": "markdown",
   "metadata": {
    "execution": {
     "iopub.execute_input": "2020-11-22T23:00:58.649652Z",
     "iopub.status.busy": "2020-11-22T23:00:58.649150Z",
     "iopub.status.idle": "2020-11-22T23:00:58.655446Z",
     "shell.execute_reply": "2020-11-22T23:00:58.654354Z",
     "shell.execute_reply.started": "2020-11-22T23:00:58.649564Z"
    }
   },
   "source": [
    "Now run [dms2_batch_prefs](https://jbloomlab.github.io/dms_tools2/dms2_batch_prefs.html):"
   ]
  },
  {
   "cell_type": "code",
   "execution_count": null,
   "metadata": {},
   "outputs": [],
   "source": [
    "prefsdir = os.path.join(resultsdir, 'prefs')\n",
    "os.makedirs(prefsdir, exist_ok=True)\n",
    "\n",
    "prefs_batchfile = os.path.join(prefsdir, 'batch.csv')\n",
    "prefs_batch.to_csv(prefs_batchfile, index=False)\n",
    "\n",
    "log = ! dms2_batch_prefs \\\n",
    "        --indir {renumb_countsdir} \\\n",
    "        --batchfile {prefs_batchfile} \\\n",
    "        --outdir {prefsdir} \\\n",
    "        --summaryprefix summary \\\n",
    "        --method ratio \\\n",
    "        --use_existing {use_existing} \\\n",
    "        --ncpus {ncpus}\n",
    "\n",
    "assert all(map(os.path.isfile, [os.path.join(prefsdir, name + '_prefs.csv') \n",
    "                                for name in prefs_batch.name])), '\\n'.join(log)\n",
    "\n",
    "print(\"Amino-acid preferences calculated for all samples.\")"
   ]
  },
  {
   "cell_type": "markdown",
   "metadata": {},
   "source": [
    "Look at correlation among the amino-acid preferences for the individual libraries:"
   ]
  },
  {
   "cell_type": "code",
   "execution_count": null,
   "metadata": {},
   "outputs": [],
   "source": [
    "showPDF(os.path.join(prefsdir, 'summary_prefscorr.pdf'))"
   ]
  },
  {
   "cell_type": "markdown",
   "metadata": {},
   "source": [
    "Now let's get the amino-acid preferences for **all** samples, and for each condition separately:"
   ]
  },
  {
   "cell_type": "code",
   "execution_count": null,
   "metadata": {},
   "outputs": [],
   "source": [
    "# file with preferences for all samples\n",
    "prefs_files = {'all': os.path.join(prefsdir, 'prefs_all.csv')}\n",
    "pd.read_csv(os.path.join(prefsdir, 'summary_avgprefs.csv')).to_csv(prefs_files['all'],\n",
    "                                                                   index=False,\n",
    "                                                                   float_format='%.5f')\n",
    "\n",
    "# file with preferences for each condition\n",
    "for selection, df in prefs_batch.groupby('selection'):\n",
    "    selection_prefsfiles = [os.path.join(prefsdir, f\"{name}_prefs.csv\") for name in df['name']]\n",
    "    assert all(map(os.path.isfile, selection_prefsfiles)), selection_prefsfiles\n",
    "    prefs_files[selection] = os.path.join(prefsdir, f\"prefs_{selection}.csv\")\n",
    "    dms_tools2.prefs.avgPrefs(selection_prefsfiles).to_csv(prefs_files[selection],\n",
    "                                                           index=False,\n",
    "                                                           float_format='%.5f')\n",
    "    \n",
    "print('Average preferences across conditions are in the following files:')\n",
    "display(HTML(pd.Series(prefs_files).rename('file').to_frame().to_html()))"
   ]
  },
  {
   "cell_type": "markdown",
   "metadata": {},
   "source": [
    "Now we will make a logo plot of the average of the amino-acid preferences across all samples, and each group of samples.\n",
    "We do this using [dms2_logoplot](https://jbloomlab.github.io/dms_tools2/dms2_logoplot.html).\n",
    "Note that this logo plot shows the raw unscaled (not re-scaled) preferences.\n",
    "In this plot, the height of each letter is proportional to the \"preference\" for that amino acid at that site, so taller letters are more preferred at a site.\n",
    "If the site tolerates everything, there will just be lots of small letters as all amino acids equally tolerated:"
   ]
  },
  {
   "cell_type": "code",
   "execution_count": null,
   "metadata": {},
   "outputs": [],
   "source": [
    "logodir = os.path.join(resultsdir, 'logoplots')\n",
    "os.makedirs(logodir, exist_ok=True)\n",
    "\n",
    "# get wildtype amino acids to use as overlay\n",
    "wt_aas = pd.DataFrame.from_records(\n",
    "            [(r + 1 + site_number_offset, a) for r, a in enumerate(refprot) if a != '*'],\n",
    "            columns=['site', 'wildtype'])\n",
    "wtoverlayfile = os.path.join(logodir, 'wt_overlay.csv')\n",
    "wt_aas.to_csv(wtoverlayfile, index=False)\n",
    "\n",
    "for selection, prefs_csv in prefs_files.items():\n",
    "\n",
    "    logoplot = os.path.join(logodir, f\"{selection}_prefs.pdf\")\n",
    "\n",
    "    log = ! dms2_logoplot \\\n",
    "            --prefs {prefs_csv} \\\n",
    "            --name {selection} \\\n",
    "            --outdir {logodir} \\\n",
    "            --nperline 56 \\\n",
    "            --overlay1 {wtoverlayfile} wildtype wildtype \\\n",
    "            --letterheight 1.2 \\\n",
    "            --use_existing {use_existing}\n",
    "\n",
    "    assert os.path.isfile(logoplot), '\\n'.join(log)\n",
    "\n",
    "    print(f\"\\n\\nPreferences for {selection} samples:\")\n",
    "    showPDF(logoplot)"
   ]
  },
  {
   "cell_type": "markdown",
   "metadata": {},
   "source": [
    "We can also represent the effects of mutations in a different way than the amino acid preferences.\n",
    "Specifically, the ratio of the preference for the mutant amino-acid to the wildtype amino-acid is a measure of its enrichment (this is just the ratio of letter heights in the plot above).\n",
    "If we take the log of this mutational effect, negative values indicate deleterious mutations and positive values indicate favorable mutations\n",
    "The potential advantage of this representation is that it better shows the detailed differences between mutations to amino acids with small preferences, which can be useful for figuring out if we think a mutation is just very mildly deleterious or highly deleterious.\n",
    "\n",
    "Here we calculate the mutational effects and then plot their log2 values on a logo plot.\n",
    "\n",
    "First, create a subdirectory for these analyses:"
   ]
  },
  {
   "cell_type": "code",
   "execution_count": null,
   "metadata": {},
   "outputs": [],
   "source": [
    "muteffectsdir = os.path.join(resultsdir, 'muteffects')\n",
    "os.makedirs(muteffectsdir, exist_ok=True)"
   ]
  },
  {
   "cell_type": "markdown",
   "metadata": {},
   "source": [
    "Convert the amino-acid preferences into mutational effects:"
   ]
  },
  {
   "cell_type": "code",
   "execution_count": null,
   "metadata": {},
   "outputs": [],
   "source": [
    "muteffects_files = {}\n",
    "for selection, prefs_csv in prefs_files.items():\n",
    "    muteffects = dms_tools2.prefs.prefsToMutFromWtEffects(\n",
    "                    prefs=pd.read_csv(prefs_csv),\n",
    "                    charlist=AAS,\n",
    "                    wts=wt_aas)\n",
    "    muteffects_files[selection] = os.path.join(muteffectsdir, f\"{selection}_muteffects.csv\")\n",
    "    print(f\"Writing mutational effects for {selection} to {muteffects_files[selection]}\")\n",
    "    muteffects.to_csv(muteffects_files[selection], index=False, float_format='%.5g')"
   ]
  },
  {
   "cell_type": "markdown",
   "metadata": {},
   "source": [
    "Now make a logo plots showing the mutational effects for all samples, and for each condition.\n",
    "Letters below the line indicate deleterious mutations, and letters above the line indicate beneficial ones.\n",
    "We include a scale bar indicating the fold-enrichment implied by each letter height:"
   ]
  },
  {
   "cell_type": "code",
   "execution_count": null,
   "metadata": {},
   "outputs": [],
   "source": [
    "for selection, muteffects_csv in muteffects_files.items():\n",
    "\n",
    "    logoplot = os.path.join(logodir, f\"{selection}_muteffects.pdf\")\n",
    "\n",
    "    log = ! dms2_logoplot \\\n",
    "            --muteffects {muteffects_csv} \\\n",
    "            --name {selection} \\\n",
    "            --outdir {logodir} \\\n",
    "            --nperline 56 \\\n",
    "            --overlay1 {wtoverlayfile} wildtype wildtype \\\n",
    "            --scalebar 6.64 \"100-fold change (log scale)\" \\\n",
    "            --use_existing {use_existing}\n",
    "\n",
    "    assert os.path.isfile(logoplot), '\\n'.join(log)\n",
    "\n",
    "    print(f\"\\n\\nMutational effects for {selection} samples:\")\n",
    "    showPDF(logoplot)"
   ]
  },
  {
   "cell_type": "markdown",
   "metadata": {},
   "source": [
    "## Differential selection\n",
    "Now we compute the differential selection between the human and mosquito viruses.\n",
    "We will compute Huh7.5 relative to C636, so positive values indicate favored in Huh7.5, and negative values indicate favored in C636.\n",
    "\n",
    "First, set up a data frame indicating the comparisons that we will make:"
   ]
  },
  {
   "cell_type": "code",
   "execution_count": null,
   "metadata": {},
   "outputs": [],
   "source": [
    "# We need to avoid using the IFN pilot samples in tile 1\n",
    "\n",
    "diffsel_samples = (\n",
    "    samples\n",
    "    .query('library.str.contains(\"lib\") and selection != \"Huh-7.5IFNPilot\"')\n",
    "    [['library', 'selection', 'renumb_codoncounts']]\n",
    "    .pivot(index='library',\n",
    "           columns='selection',\n",
    "           values='renumb_codoncounts',\n",
    "           )\n",
    "    .rename_axis(columns=None)\n",
    "    .reset_index()\n",
    "    .rename(columns={'library': 'name',\n",
    "                     'Huh-7.5': 'sel',\n",
    "                     'C6-36': 'mock'})\n",
    "    .assign(err=samples.query('selection == \"plasmid\"').set_index('library').at['wt', 'renumb_codoncounts'])\n",
    "    [['name', 'mock', 'sel', 'err']]\n",
    "    )\n",
    "\n",
    "display(HTML(diffsel_samples.to_html(index=False)))"
   ]
  },
  {
   "cell_type": "markdown",
   "metadata": {},
   "source": [
    "Now we compute the differential selection.\n",
    "We then get the files with the average values across replicates, using the **median** as our measure of average so it is not overly affected by outliers in any given replicate:"
   ]
  },
  {
   "cell_type": "code",
   "execution_count": null,
   "metadata": {},
   "outputs": [],
   "source": [
    "diffseldir = os.path.join(resultsdir, 'diffsel')\n",
    "os.makedirs(diffseldir, exist_ok=True)\n",
    "\n",
    "diffsel_batchfile = os.path.join(diffseldir, 'batch.csv')\n",
    "diffsel_samples.to_csv(diffsel_batchfile, index=False)\n",
    "    \n",
    "print(f\"Computing differential selection...\")\n",
    "diffsel_prefix = 'Huh7.5-vs-C636'\n",
    "subprocess.check_output([\n",
    "        'dms2_batch_diffsel',\n",
    "        '--batchfile', diffsel_batchfile,\n",
    "        '--outdir', diffseldir,\n",
    "        '--summaryprefix', diffsel_prefix,\n",
    "        '--use_existing', 'yes',\n",
    "        '--ncpus', str(ncpus),\n",
    "        ])\n",
    "    \n",
    "avgmutdiffsel_file = os.path.join(diffseldir, \n",
    "                                  f\"{diffsel_prefix}_medianmutdiffsel.csv\")\n",
    "avgsitediffsel_file = os.path.join(diffseldir, \n",
    "                                   f\"{diffsel_prefix}_mediansitediffsel.csv\")"
   ]
  },
  {
   "cell_type": "markdown",
   "metadata": {},
   "source": [
    "We read this across-replicates average (median) differential selection into a data frame:"
   ]
  },
  {
   "cell_type": "code",
   "execution_count": null,
   "metadata": {},
   "outputs": [],
   "source": [
    "diffsel = (dms_tools2.diffsel.df_read_filecols(\n",
    "             df=pd.DataFrame({'name': [diffsel_prefix],\n",
    "                             'mutdiffselfile': [avgmutdiffsel_file],\n",
    "                             'sitediffselfile': [avgsitediffsel_file],\n",
    "                             }),\n",
    "             filecols=['mutdiffselfile', 'sitediffselfile'])\n",
    "           .drop(columns=['mutdiffselfile', 'sitediffselfile'])\n",
    "           )\n",
    "print('Here are the first few lines of the `diffsel` data frame:')\n",
    "display(HTML(diffsel.head().to_html(index=False)))"
   ]
  },
  {
   "cell_type": "markdown",
   "metadata": {},
   "source": [
    "Here is the correlation in the absolute site-level selection among replicates:"
   ]
  },
  {
   "cell_type": "code",
   "execution_count": null,
   "metadata": {},
   "outputs": [],
   "source": [
    "showPDF(os.path.join(diffseldir,\n",
    "                     f\"{diffsel_prefix}_absolutesitediffselcorr.pdf\"),\n",
    "        width=350)"
   ]
  },
  {
   "cell_type": "markdown",
   "metadata": {},
   "source": [
    "## Create `dms-view` input files\n",
    "Now we create a file to visualize the results of the deep mutational scanning using [dms-view](https://dms-view.github.io), setting up the mapping for the [6WCZ](https://www.rcsb.org/structure/6wcz) PDB file.\n",
    "In this PDB file, chain A is human STAT2 and chain B is ZIKV NS5."
   ]
  },
  {
   "cell_type": "code",
   "execution_count": null,
   "metadata": {},
   "outputs": [],
   "source": [
    "offset_to_pdb = 0\n",
    "pdb_chain = 'B'"
   ]
  },
  {
   "cell_type": "code",
   "execution_count": null,
   "metadata": {},
   "outputs": [],
   "source": [
    "dms_view_data = pd.DataFrame()\n",
    "\n",
    "# preferences for all conditions\n",
    "for condition, csvfile in prefs_files.items():\n",
    "    prefs = pd.read_csv(csvfile)\n",
    "    dms_view_data = dms_view_data.append(\n",
    "        prefs\n",
    "        .melt(id_vars='site',\n",
    "              var_name='mutation',\n",
    "              value_name='mut_preference',\n",
    "              )\n",
    "        .merge(dms_tools2.prefs.prefsEntropy(prefs, prefs.columns[1:].tolist())\n",
    "               [['site', 'entropy', 'neffective']],\n",
    "               on='site', validate='many_to_one')\n",
    "        .rename(columns={'entropy': 'site_entropy', 'neffective': 'site_neffective'})\n",
    "        .assign(condition=condition)\n",
    "        )\n",
    "\n",
    "# add PDB information\n",
    "dms_view_data = dms_view_data.assign(label_site=lambda x: x['site'] + offset_to_pdb,\n",
    "                                     protein_site=lambda x: x['label_site'],\n",
    "                                     protein_chain=pdb_chain)\n",
    "\n",
    "# display and print\n",
    "dms_view_dir = os.path.join(resultsdir, 'dms_view')\n",
    "os.makedirs(dms_view_dir, exist_ok=True)\n",
    "dms_view_csv = os.path.join(dms_view_dir, 'data.csv')\n",
    "print(f\"Writing CSV to {dms_view_csv}; here are first few lines:\")\n",
    "dms_view_data.to_csv(dms_view_csv, index=False, float_format='%.3g')\n",
    "display(HTML(dms_view_data.head().to_html()))"
   ]
  },
  {
   "cell_type": "markdown",
   "metadata": {},
   "source": [
    "## Create interactive visualization for selection of host-specific mutations\n",
    "This additional analysis is based on Jesse Bloom's 2019 notebook. \n",
    "I have made edits to incorporate into Snakemake pipeline, but mostly left code blocks untouched. \n",
    "\n",
    "Info from Jesse's notebook:\n",
    "Following the logic of [Soh et al](https://elifesciences.org/articles/45079), we want to identify host-specific mutations on two criteria:\n",
    "\n",
    "  1. They have strong differential selection for that host (positive values for Huh-7.5-specific mutations, negative values for C636-specific mutations).\n",
    "     The rationale here is that we want mutations that are clearly better in one host than another.\n",
    "  \n",
    "  2. They have a positive mutational effect relative to wildtype in that host.\n",
    "     The logic here is that we want to identify mutations that are beneficial overall.\n",
    "     "
   ]
  },
  {
   "cell_type": "markdown",
   "metadata": {},
   "source": [
    "First, we need to calculate the average effects (across replicates) of each mutation in each cell line.  "
   ]
  },
  {
   "cell_type": "code",
   "execution_count": null,
   "metadata": {},
   "outputs": [],
   "source": [
    "for selection, prefs_csv in prefs_files.items():\n",
    "    muteffects = dms_tools2.prefs.prefsToMutFromWtEffects(\n",
    "                    prefs=pd.read_csv(prefs_csv),\n",
    "                    charlist=AAS,\n",
    "                    wts=wt_aas)\n",
    "    muteffects_files[selection] = os.path.join(muteffectsdir, f\"{selection}_muteffects.csv\")\n",
    "    \n",
    "    # We need to add selection labels to our muteffects dataset\n",
    "    selections = [\"Huh-7.5_\", \"C6-36\"]\n",
    "    \n",
    "    for s in selections:\n",
    "        if s in muteffects_files[selection]:\n",
    "            sel_muteffects = pd.read_csv(muteffects_files[selection])\n",
    "            sel_muteffects = sel_muteffects.assign(selection = lambda x: s.split(\"_\", 1)[0])  \n",
    "            print(f\"Writing new Huh-7.5-selected CSV to {muteffects_files[selection]}; here are first few lines:\")\n",
    "            sel_muteffects.to_csv(muteffects_files[selection], index=False)\n",
    "            print(sel_muteffects.head())\n",
    "            \n",
    "\n",
    "# Now we can create a new dataframe that contains both selected conditions\n",
    "df1 = pd.read_csv(muteffects_files['C6-36'])\n",
    "df2 = pd.read_csv(muteffects_files['Huh-7.5'])\n",
    "selection_muteffects = pd.concat([df1, df2])\n",
    "\n",
    "selection_muteffects_file = os.path.join(muteffectsdir, f\"C636_Huh7.5_combo_avg_muteffects.csv\")\n",
    "print(f\"Writing new average mut effects for both C6-36- and Huh-7.5-selected CSV to {selection_muteffects_file}; here are first few lines:\")\n",
    "selection_muteffects.to_csv(selection_muteffects_file, index=False)\n",
    "print(selection_muteffects.head())"
   ]
  },
  {
   "cell_type": "code",
   "execution_count": null,
   "metadata": {},
   "outputs": [],
   "source": [
    "muteffects_avg = (\n",
    "    selection_muteffects\n",
    "    .groupby(['selection', 'site', 'wildtype', 'mutant', 'mutation'])\n",
    "    [['log2effect']]\n",
    "    .aggregate('mean')\n",
    "    .reset_index()\n",
    "    )\n",
    "print('Here are the first few lines of `muteffects_avg`:')\n",
    "display(HTML(muteffects_avg.head().to_html(index=False)))"
   ]
  },
  {
   "cell_type": "markdown",
   "metadata": {},
   "source": [
    "Then, combine data frames that have the effect of each mutation in the *Huh-7.5* cells (average across replicates), the effect of each mutation in *C636-2x* cells (average across replicates), and the differential selection in *Huh-7.5* versus *C636-2x* (average across replicates)."
   ]
  },
  {
   "cell_type": "code",
   "execution_count": null,
   "metadata": {},
   "outputs": [],
   "source": [
    "hostadapt = (\n",
    " muteffects_avg\n",
    " .query('selection in [\"C6-36\", \"Huh-7.5\"]')\n",
    " [['site', 'wildtype', 'mutant', 'mutation', 'selection', 'log2effect']]\n",
    " .pivot_table(index=['site', 'wildtype', 'mutant', 'mutation'],\n",
    "              columns='selection',\n",
    "              values='log2effect')\n",
    " .reset_index()\n",
    " .rename_axis(columns=None)\n",
    " .rename(columns={'C6-36': 'muteffect_C636',\n",
    "                  'Huh-7.5': 'muteffect_Huh75'})\n",
    " .assign(foldchange_C636=lambda x: 2**x['muteffect_C636'],\n",
    "         foldchange_Huh75=lambda x: 2**x['muteffect_Huh75'])\n",
    " .merge(diffsel\n",
    "        .assign(mutation=lambda x: x['wildtype'] + x['site'].astype(str) + x['mutation'])\n",
    "        [['mutation', 'mutdiffsel']]\n",
    "        .rename(columns={'mutdiffsel': 'diffsel_Huh75_vs_C636'})\n",
    "        )\n",
    " )\n",
    "\n",
    "display(HTML(hostadapt.head().to_html(index=False)))"
   ]
  },
  {
   "cell_type": "markdown",
   "metadata": {},
   "source": [
    "In the above data frame, positive mutational effects mean the mutation is favorable in that cell type, and negative mutational effects mean the mutation is unfavorable in that cell type.\n",
    "Positive differential selection values mean the mutation is more favorable in Huh-7.5 cells than C636 cells, and negative values mean it is more favorable in C636 than Huh-7.5 cells.\n",
    "This data frame captures the key measurements; we write it to a file:"
   ]
  },
  {
   "cell_type": "code",
   "execution_count": null,
   "metadata": {},
   "outputs": [],
   "source": [
    "hostadapt_dir = os.path.join(resultsdir, 'host_adaptation')\n",
    "os.makedirs(hostadapt_dir, exist_ok=True)\n",
    "\n",
    "hostadapt_file = os.path.join(hostadapt_dir, 'host_adaptation.csv')\n",
    "print(f\"Writing data frame to {hostadapt_file}\")\n",
    "hostadapt.to_csv(hostadapt_file, index=False, float_format='%.4f')"
   ]
  },
  {
   "cell_type": "markdown",
   "metadata": {},
   "source": [
    "Now we make an interactive plot to select mutations to validate.\n",
    "Look at the text below the next cell for more information:"
   ]
  },
  {
   "cell_type": "code",
   "execution_count": null,
   "metadata": {},
   "outputs": [],
   "source": [
    "# select point nearest mouse\n",
    "nearest = alt.selection(type='single', empty='none', nearest=True, on='mouseover')\n",
    "\n",
    "# create the basic chart\n",
    "basechart = (\n",
    " alt.Chart(hostadapt\n",
    "           .rename(columns={'muteffect_C636': 'effect C636',\n",
    "                            'muteffect_Huh75': 'effect Huh75',\n",
    "                            'diffsel_Huh75_vs_C636': 'Huh75 vs C636',\n",
    "                            })\n",
    "           .assign(dummy=0)\n",
    "           )\n",
    " .add_selection(nearest)\n",
    " .encode(fill=alt.condition(nearest, alt.value('orange'), alt.value('gray')),\n",
    "         opacity=alt.condition(nearest, alt.value(1), alt.value(0.4)),\n",
    "         tooltip=['mutation', 'effect C636', 'effect Huh75', 'Huh75 vs C636'],\n",
    "         )\n",
    " .interactive()\n",
    " )\n",
    "\n",
    "# side-by-side interactive plots to select mutations\n",
    "chart = (\n",
    " basechart.encode(x='effect C636:Q',\n",
    "              y='effect Huh75:Q'\n",
    "              )\n",
    "      .mark_point()\n",
    "      .properties(width=500,\n",
    "                  height=500)\n",
    " |\n",
    " basechart.encode(x=alt.X('dummy:O', title=None),\n",
    "              y='Huh75 vs C636:Q',           \n",
    "              )\n",
    "      .properties(width=50,\n",
    "                  height=500)\n",
    "      .mark_tick()\n",
    " )\n",
    "\n",
    "# save the interactive plot\n",
    "plotfile = os.path.join(hostadapt_dir, 'select_muts_chart.html')\n",
    "print(f\"Saving interactive plot to {plotfile}\")\n",
    "chart.save(plotfile)\n",
    "\n",
    "# show the chart\n",
    "chart"
   ]
  },
  {
   "cell_type": "markdown",
   "metadata": {},
   "source": [
    "The above interactive plots make it easy to identify mutations.\n",
    "\n",
    "As mentioned above, Huh-7.5-specific mutations will:\n",
    "  - have *effect Huh-7.5* $> 0$ in the scatter plot at left (be favorable in Huh-7.5 cells)\n",
    "  - have *effect C636* $< 0$ in the scatter plot at left (be unfavorable in C636 cells)\n",
    "  - have *Huh-7.5 vs C636* $> 0$ in the strip chart at right (be favored in Huh-7.5 over C636)\n",
    "  \n",
    "The C636-specific mutations will:\n",
    "  - have *effect Huh-7.5* $< 0$ in the scatter plot at left (be unfavorable in Huh-7.5 cells)\n",
    "  - have *effect C636* $> 0$ in the scatter plot at left (be favorable in C636 cells)\n",
    "  - have *Huh-7.5 vs C636* $< 0$ in the strip chart at right (be favored in C636 over Huh-7.5)\n",
    "  \n",
    "You can use the mouse to hover over marks and they will turn orange in both the scatter plot and the strip chart, and a box will appear giving detailed information on the mutations.\n",
    "You can also use the mouse scroll bar to zoom in and out.\n",
    "\n",
    "*Note: the interactive plot will only render interactively in the Jupyter notebook itself! If you have a HTMl rendering the plot will be static. In that case, you want to open the interactive plot saved to the HTML file above separately.*"
   ]
  },
  {
   "cell_type": "markdown",
   "metadata": {},
   "source": [
    "The best way to pick mutations will be to look at the charts above, but below we also simply list what appear to be some of the top candidates in tabular form using simple criteria."
   ]
  },
  {
   "cell_type": "code",
   "execution_count": null,
   "metadata": {},
   "outputs": [],
   "source": [
    "print(\"The top Huh-7.5-specific mutations appear to be...\")\n",
    "display(HTML(\n",
    "    hostadapt\n",
    "    .query('muteffect_Huh75 > 0')\n",
    "    .sort_values('diffsel_Huh75_vs_C636', ascending=False)\n",
    "    .head(n=10)\n",
    "    .to_html(index=False)\n",
    "    ))\n",
    "\n",
    "print(\"The top C6-36-specific mutations appear to be...\")\n",
    "display(HTML(\n",
    "    hostadapt\n",
    "    .query('muteffect_C636 > 0')\n",
    "    .sort_values('diffsel_Huh75_vs_C636', ascending=True)\n",
    "    .head(n=10)\n",
    "    .to_html(index=False)\n",
    "    ))"
   ]
  }
 ],
 "metadata": {
  "kernelspec": {
   "display_name": "Python 3 (ipykernel)",
   "language": "python",
   "name": "python3"
  },
  "language_info": {
   "codemirror_mode": {
    "name": "ipython",
    "version": 3
   },
   "file_extension": ".py",
   "mimetype": "text/x-python",
   "name": "python",
   "nbconvert_exporter": "python",
   "pygments_lexer": "ipython3",
   "version": "3.8.13"
  },
  "toc": {
   "base_numbering": 1,
   "nav_menu": {},
   "number_sections": false,
   "sideBar": true,
   "skip_h1_title": false,
   "title_cell": "Table of Contents",
   "title_sidebar": "Contents",
   "toc_cell": true,
   "toc_position": {
    "height": "calc(100% - 180px)",
    "left": "10px",
    "top": "150px",
    "width": "299.631px"
   },
   "toc_section_display": true,
   "toc_window_display": true
  }
 },
 "nbformat": 4,
 "nbformat_minor": 4
}
