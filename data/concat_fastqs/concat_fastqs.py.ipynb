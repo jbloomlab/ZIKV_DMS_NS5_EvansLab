{
 "cells": [
  {
   "cell_type": "markdown",
   "id": "c095b694",
   "metadata": {},
   "source": [
    "# concat_fastqs\n",
    "This notebook takes a list of FASTQ files that reprsent multiple sequencing runs of the same samples. It groups them by sample and tile, concatenates them, and saves the concatenated FASTQ."
   ]
  },
  {
   "cell_type": "markdown",
   "id": "f5e1251f",
   "metadata": {},
   "source": [
    "Notebook Setup:"
   ]
  },
  {
   "cell_type": "code",
   "execution_count": 1,
   "id": "734f9626",
   "metadata": {},
   "outputs": [],
   "source": [
    "import pandas as pd"
   ]
  },
  {
   "cell_type": "markdown",
   "id": "4529310a",
   "metadata": {},
   "source": [
    "Paths:"
   ]
  },
  {
   "cell_type": "code",
   "execution_count": 4,
   "id": "f9a98aed",
   "metadata": {},
   "outputs": [],
   "source": [
    "samplelist = 'concat_fastq_samplelist.csv'\n",
    "out_dir = 'concat_fastq_out/'"
   ]
  },
  {
   "cell_type": "markdown",
   "id": "1e8fe67b",
   "metadata": {},
   "source": [
    "Load samplelist:"
   ]
  },
  {
   "cell_type": "code",
   "execution_count": 5,
   "id": "90895d16",
   "metadata": {},
   "outputs": [
    {
     "data": {
      "text/html": [
       "<div>\n",
       "<style scoped>\n",
       "    .dataframe tbody tr th:only-of-type {\n",
       "        vertical-align: middle;\n",
       "    }\n",
       "\n",
       "    .dataframe tbody tr th {\n",
       "        vertical-align: top;\n",
       "    }\n",
       "\n",
       "    .dataframe thead th {\n",
       "        text-align: right;\n",
       "    }\n",
       "</style>\n",
       "<table border=\"1\" class=\"dataframe\">\n",
       "  <thead>\n",
       "    <tr style=\"text-align: right;\">\n",
       "      <th></th>\n",
       "      <th>library</th>\n",
       "      <th>selection</th>\n",
       "      <th>tile</th>\n",
       "      <th>date</th>\n",
       "      <th>R1</th>\n",
       "    </tr>\n",
       "  </thead>\n",
       "  <tbody>\n",
       "    <tr>\n",
       "      <th>0</th>\n",
       "      <td>wt</td>\n",
       "      <td>C6-36</td>\n",
       "      <td>all</td>\n",
       "      <td>220225</td>\n",
       "      <td>/shared/ngs/illumina/bloom_lab/220225_M04866_0...</td>\n",
       "    </tr>\n",
       "    <tr>\n",
       "      <th>1</th>\n",
       "      <td>lib1</td>\n",
       "      <td>C6-36</td>\n",
       "      <td>all</td>\n",
       "      <td>220225</td>\n",
       "      <td>/shared/ngs/illumina/bloom_lab/220225_M04866_0...</td>\n",
       "    </tr>\n",
       "    <tr>\n",
       "      <th>2</th>\n",
       "      <td>lib2</td>\n",
       "      <td>C6-36</td>\n",
       "      <td>all</td>\n",
       "      <td>220225</td>\n",
       "      <td>/shared/ngs/illumina/bloom_lab/220225_M04866_0...</td>\n",
       "    </tr>\n",
       "    <tr>\n",
       "      <th>3</th>\n",
       "      <td>lib3</td>\n",
       "      <td>C6-36</td>\n",
       "      <td>all</td>\n",
       "      <td>220225</td>\n",
       "      <td>/shared/ngs/illumina/bloom_lab/220225_M04866_0...</td>\n",
       "    </tr>\n",
       "    <tr>\n",
       "      <th>4</th>\n",
       "      <td>wt</td>\n",
       "      <td>C6-36</td>\n",
       "      <td>all</td>\n",
       "      <td>220415</td>\n",
       "      <td>/shared/ngs/illumina/bloom_lab/220415_M00492_0...</td>\n",
       "    </tr>\n",
       "    <tr>\n",
       "      <th>5</th>\n",
       "      <td>lib1</td>\n",
       "      <td>C6-36</td>\n",
       "      <td>all</td>\n",
       "      <td>220415</td>\n",
       "      <td>/shared/ngs/illumina/bloom_lab/220415_M00492_0...</td>\n",
       "    </tr>\n",
       "    <tr>\n",
       "      <th>6</th>\n",
       "      <td>lib2</td>\n",
       "      <td>C6-36</td>\n",
       "      <td>all</td>\n",
       "      <td>220415</td>\n",
       "      <td>/shared/ngs/illumina/bloom_lab/220415_M00492_0...</td>\n",
       "    </tr>\n",
       "    <tr>\n",
       "      <th>7</th>\n",
       "      <td>lib3</td>\n",
       "      <td>C6-36</td>\n",
       "      <td>all</td>\n",
       "      <td>220415</td>\n",
       "      <td>/shared/ngs/illumina/bloom_lab/220415_M00492_0...</td>\n",
       "    </tr>\n",
       "  </tbody>\n",
       "</table>\n",
       "</div>"
      ],
      "text/plain": [
       "  library selection tile    date  \\\n",
       "0      wt     C6-36  all  220225   \n",
       "1    lib1     C6-36  all  220225   \n",
       "2    lib2     C6-36  all  220225   \n",
       "3    lib3     C6-36  all  220225   \n",
       "4      wt     C6-36  all  220415   \n",
       "5    lib1     C6-36  all  220415   \n",
       "6    lib2     C6-36  all  220415   \n",
       "7    lib3     C6-36  all  220415   \n",
       "\n",
       "                                                  R1  \n",
       "0  /shared/ngs/illumina/bloom_lab/220225_M04866_0...  \n",
       "1  /shared/ngs/illumina/bloom_lab/220225_M04866_0...  \n",
       "2  /shared/ngs/illumina/bloom_lab/220225_M04866_0...  \n",
       "3  /shared/ngs/illumina/bloom_lab/220225_M04866_0...  \n",
       "4  /shared/ngs/illumina/bloom_lab/220415_M00492_0...  \n",
       "5  /shared/ngs/illumina/bloom_lab/220415_M00492_0...  \n",
       "6  /shared/ngs/illumina/bloom_lab/220415_M00492_0...  \n",
       "7  /shared/ngs/illumina/bloom_lab/220415_M00492_0...  "
      ]
     },
     "metadata": {},
     "output_type": "display_data"
    }
   ],
   "source": [
    "samples = pd.read_csv(samplelist)\n",
    "display(samples)"
   ]
  },
  {
   "cell_type": "code",
   "execution_count": null,
   "id": "52b5e1fb",
   "metadata": {},
   "outputs": [],
   "source": []
  }
 ],
 "metadata": {
  "kernelspec": {
   "display_name": "Python 3 (ipykernel)",
   "language": "python",
   "name": "python3"
  },
  "language_info": {
   "codemirror_mode": {
    "name": "ipython",
    "version": 3
   },
   "file_extension": ".py",
   "mimetype": "text/x-python",
   "name": "python",
   "nbconvert_exporter": "python",
   "pygments_lexer": "ipython3",
   "version": "3.8.12"
  }
 },
 "nbformat": 4,
 "nbformat_minor": 5
}
