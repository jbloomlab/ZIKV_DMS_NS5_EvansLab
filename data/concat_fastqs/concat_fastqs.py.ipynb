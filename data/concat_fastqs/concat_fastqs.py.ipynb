{
 "cells": [
  {
   "cell_type": "markdown",
   "id": "c095b694",
   "metadata": {},
   "source": [
    "# concat_fastqs\n",
    "This notebook takes a list of FASTQ files that reprsent multiple sequencing runs of the same samples. It groups them by sample and tile, concatenates them, and saves the concatenated FASTQ."
   ]
  },
  {
   "cell_type": "markdown",
   "id": "f5e1251f",
   "metadata": {},
   "source": [
    "Notebook Setup:"
   ]
  },
  {
   "cell_type": "code",
   "execution_count": null,
   "id": "734f9626",
   "metadata": {},
   "outputs": [],
   "source": [
    "import pandas as pd"
   ]
  },
  {
   "cell_type": "markdown",
   "id": "4529310a",
   "metadata": {},
   "source": [
    "Paths:"
   ]
  },
  {
   "cell_type": "code",
   "execution_count": null,
   "id": "f9a98aed",
   "metadata": {},
   "outputs": [],
   "source": [
    "samplelist = 'concat_fastq_samplelist.csv'\n",
    "out_dir = 'concat_fastq_out/'"
   ]
  },
  {
   "cell_type": "markdown",
   "id": "1e8fe67b",
   "metadata": {},
   "source": [
    "Load samplelist:"
   ]
  },
  {
   "cell_type": "code",
   "execution_count": null,
   "id": "90895d16",
   "metadata": {},
   "outputs": [],
   "source": [
    "samples = pd.read_csv(samplelist)\n",
    "display(samples)"
   ]
  },
  {
   "cell_type": "markdown",
   "id": "f8c6cd1a",
   "metadata": {},
   "source": [
    "Generate list of R1 files grouped by sample information. Ignore date, since we are combining sequencing runs. Sample information will be:\n",
    "* library\n",
    "* selection"
   ]
  },
  {
   "cell_type": "code",
   "execution_count": null,
   "id": "48c57e10",
   "metadata": {},
   "outputs": [],
   "source": [
    "R1_files = (\n",
    "    pd.DataFrame(\n",
    "        samples.groupby(['library', 'selection'])\n",
    "        ['R1']\n",
    "        .apply(list))\n",
    "     .reset_index()\n",
    "     .rename(columns={'R1': 'R1_list'})\n",
    ")\n",
    "display(R1_files)"
   ]
  },
  {
   "cell_type": "markdown",
   "id": "2c7c3e53-40f2-43d8-8aac-e048df6c9c94",
   "metadata": {},
   "source": [
    "Generate output directory with name \"concat_fastq_out\""
   ]
  },
  {
   "cell_type": "code",
   "execution_count": null,
   "id": "2cd42472-0d58-498f-b171-6122c2f2811b",
   "metadata": {},
   "outputs": [],
   "source": [
    "! mkdir concat_fastq_out -p"
   ]
  },
  {
   "cell_type": "markdown",
   "id": "f1496634",
   "metadata": {},
   "source": [
    "Make `cat` command string for each sample in R1_files"
   ]
  },
  {
   "cell_type": "code",
   "execution_count": null,
   "id": "bcce843a",
   "metadata": {},
   "outputs": [],
   "source": [
    "for index, row in R1_files.iterrows():\n",
    "    print(f\"Generating command for {row['library']} {row['selection']}.\\n\")\n",
    "    \n",
    "    # make string with all R1_files for each sample\n",
    "    print(\"The files for this sample are:\")\n",
    "    ls = []\n",
    "    for s in row[\"R1_list\"]:\n",
    "        print(s)\n",
    "        ls.append(s)\n",
    "    \n",
    "    R1_string = \" \".join(map(str, ls))\n",
    "    \n",
    "    # make string with output file name\n",
    "    output_file = (out_dir +\n",
    "                   row['library'] + '_' +\n",
    "                   row['selection'].replace('-','') + '_' +\n",
    "                   'R1' +\n",
    "                   '.fastq.gz')\n",
    "    print(f\"\\nThe output file will be: {output_file}\\n\")\n",
    "    \n",
    "    command = \"cat \" + R1_string + \" > \" + output_file\n",
    "    \n",
    "    print(\"The command we run to concatentate these files will be:\")\n",
    "    print(command)\n",
    "    print(\"\\n\")"
   ]
  },
  {
   "cell_type": "code",
   "execution_count": null,
   "id": "241cf16e",
   "metadata": {},
   "outputs": [],
   "source": []
  },
  {
   "cell_type": "code",
   "execution_count": null,
   "id": "3de73c2e-e17a-46bf-8a4b-a71ac5336d33",
   "metadata": {},
   "outputs": [],
   "source": []
  }
 ],
 "metadata": {
  "kernelspec": {
   "display_name": "Python 3 (ipykernel)",
   "language": "python",
   "name": "python3"
  },
  "language_info": {
   "codemirror_mode": {
    "name": "ipython",
    "version": 3
   },
   "file_extension": ".py",
   "mimetype": "text/x-python",
   "name": "python",
   "nbconvert_exporter": "python",
   "pygments_lexer": "ipython3",
   "version": "3.8.12"
  }
 },
 "nbformat": 4,
 "nbformat_minor": 5
}
